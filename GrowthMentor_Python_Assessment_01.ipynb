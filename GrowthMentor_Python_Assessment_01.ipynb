{
  "nbformat": 4,
  "nbformat_minor": 0,
  "metadata": {
    "colab": {
      "name": "GrowthMentor_Python_Assessment_01.ipynb",
      "provenance": [],
      "collapsed_sections": [],
      "include_colab_link": true
    },
    "language_info": {
      "codemirror_mode": {
        "name": "ipython",
        "version": 3
      },
      "file_extension": ".py",
      "mimetype": "text/x-python",
      "name": "python",
      "nbconvert_exporter": "python",
      "pygments_lexer": "ipython3",
      "version": "3.6.8"
    },
    "kernelspec": {
      "name": "python3",
      "display_name": "Python 3"
    }
  },
  "cells": [
    {
      "cell_type": "markdown",
      "metadata": {
        "id": "view-in-github",
        "colab_type": "text"
      },
      "source": [
        "<a href=\"https://colab.research.google.com/github/Clinpharm26/Clinpharm26/blob/main/GrowthMentor_Python_Assessment_01.ipynb\" target=\"_parent\"><img src=\"https://colab.research.google.com/assets/colab-badge.svg\" alt=\"Open In Colab\"/></a>"
      ]
    },
    {
      "cell_type": "markdown",
      "metadata": {
        "id": "ipQQJ7ZdJ9AQ"
      },
      "source": [
        "  >>>>>>>>>>  ![alt text](https://city.ai/wp-content/uploads/formidable/13/banner_empty_rotterdam_ai-2.png)\n",
        "\n",
        "-----------------------------------------\n",
        "\n",
        " >>>>>>>>![alt text](https://python.rs/pylogo.png)"
      ]
    },
    {
      "cell_type": "markdown",
      "metadata": {
        "id": "0xys3CQ_JkK4"
      },
      "source": [
        "# \n",
        "\n",
        "**Table of Contents**\n",
        "3. [Python Variables and Data types](#python-variables-and-data-types)\n",
        "4. [Python Operations](#python-operations)\n",
        "5. [Strings and their Methods](#strings-and-their-methods)\n",
        "6. [Collections](#collections)\n",
        "7. [Errors](#errors)\n"
      ]
    },
    {
      "cell_type": "code",
      "metadata": {
        "id": "AqI4rfw7xQAI",
        "colab": {
          "base_uri": "https://localhost:8080/"
        },
        "outputId": "f24ec2cd-8b75-4e0c-89c0-ed9a3e9fed9f"
      },
      "source": [
        "#######################################################\n",
        "################### Challenge 1 #######################\n",
        "#######################################################\n",
        "\n",
        "# Print the name of your city\n",
        "city = \"Dubai\"\n",
        "print(city)"
      ],
      "execution_count": 2,
      "outputs": [
        {
          "output_type": "stream",
          "text": [
            "Dubai\n"
          ],
          "name": "stdout"
        }
      ]
    },
    {
      "cell_type": "markdown",
      "metadata": {
        "id": "27UJaI72JkLT"
      },
      "source": [
        "<a id='python-variables-and-data-types'></a>\n",
        "## Python Variables and Data types"
      ]
    },
    {
      "cell_type": "markdown",
      "metadata": {
        "id": "sHWWSt8UJkLU"
      },
      "source": [
        "### Variables"
      ]
    },
    {
      "cell_type": "code",
      "metadata": {
        "scrolled": true,
        "id": "JjpmYugSJkLW",
        "colab": {
          "base_uri": "https://localhost:8080/"
        },
        "outputId": "3cb50663-45ea-4d25-cda3-9016f17b44ea"
      },
      "source": [
        "x = 7\n",
        "y = \"UAE\"\n",
        "\n",
        "# Print the x and y variables\n",
        "print(x,y)"
      ],
      "execution_count": 1,
      "outputs": [
        {
          "output_type": "stream",
          "text": [
            "7 UAE\n"
          ],
          "name": "stdout"
        }
      ]
    },
    {
      "cell_type": "markdown",
      "metadata": {
        "id": "BfPenK-dJkLb"
      },
      "source": [
        "Python variables are generally in lower case (Snake case) and separated by underscores."
      ]
    },
    {
      "cell_type": "code",
      "metadata": {
        "scrolled": true,
        "id": "ufcb5bkDJkLc",
        "colab": {
          "base_uri": "https://localhost:8080/"
        },
        "outputId": "3f64a71a-7a6a-47b5-a384-df9dbf5968e3"
      },
      "source": [
        "# Create a variable to which you assign your name, then print the variable.\n",
        "name=\"Aisha\"\n",
        "print(name)"
      ],
      "execution_count": 2,
      "outputs": [
        {
          "output_type": "stream",
          "text": [
            "Aisha\n"
          ],
          "name": "stdout"
        }
      ]
    },
    {
      "cell_type": "markdown",
      "metadata": {
        "id": "7agypCChJkLk"
      },
      "source": [
        "### Data Types"
      ]
    },
    {
      "cell_type": "markdown",
      "metadata": {
        "id": "zkB4ZnKDJkLm"
      },
      "source": [
        "#### Numbers"
      ]
    },
    {
      "cell_type": "markdown",
      "metadata": {
        "id": "9sbzOqP2JkLo"
      },
      "source": [
        "There are three different types of numbers in Python: **int** for Integer, **Float**, and **Complex**."
      ]
    },
    {
      "cell_type": "code",
      "metadata": {
        "id": "0kccXz-6JkLp"
      },
      "source": [
        "# What is the type of following variables? Integers\n",
        "x = 10\n",
        "y = -19\n",
        "z = 0\n",
        "\n"
      ],
      "execution_count": null,
      "outputs": []
    },
    {
      "cell_type": "code",
      "metadata": {
        "id": "b_0TBWC9JkLt"
      },
      "source": [
        "# What is the type of following variables? Float\n",
        "x = 3.141592653589793238462643383279502884197169\n",
        "y = -10.223\n",
        "z = 0.1"
      ],
      "execution_count": null,
      "outputs": []
    },
    {
      "cell_type": "code",
      "metadata": {
        "id": "KTwh4uh2JkLy"
      },
      "source": [
        "# What is the type of following variable? Complex\n",
        "x = 42j\n",
        "\n"
      ],
      "execution_count": null,
      "outputs": []
    },
    {
      "cell_type": "code",
      "metadata": {
        "scrolled": true,
        "id": "nFcoSwZBJkL4"
      },
      "source": [
        "# What is the type of following variables? Boolean\n",
        "\n",
        "x = True\n",
        "y = False\n",
        "\n"
      ],
      "execution_count": null,
      "outputs": []
    },
    {
      "cell_type": "markdown",
      "metadata": {
        "id": "9efSgZ8uJkMA"
      },
      "source": [
        "Surprisingly, the boolean types True and False are also numbers under the hood. So we can actually do things like add or subtract.\n",
        "\n",
        "* True is 1 under the hood.\n",
        "* False is 0 under the hood."
      ]
    },
    {
      "cell_type": "code",
      "metadata": {
        "id": "W37cZu0bSPov",
        "colab": {
          "base_uri": "https://localhost:8080/"
        },
        "outputId": "8bb4f8d2-8183-4b06-fe26-e4c2ed6aac37"
      },
      "source": [
        "# Print the integer value of a boolean ?\n",
        "x= \"True\"\n",
        "print(int(x==1))"
      ],
      "execution_count": 36,
      "outputs": [
        {
          "output_type": "stream",
          "text": [
            "0\n"
          ],
          "name": "stdout"
        }
      ]
    },
    {
      "cell_type": "markdown",
      "metadata": {
        "id": "eWItCyZqJkMC"
      },
      "source": [
        "#### Strings"
      ]
    },
    {
      "cell_type": "markdown",
      "metadata": {
        "id": "SI7cBTCyJkME"
      },
      "source": [
        "Strings in python are surrounded by either single quotation marks, or double quotation marks."
      ]
    },
    {
      "cell_type": "code",
      "metadata": {
        "scrolled": false,
        "id": "pCbdByAvJkMG",
        "colab": {
          "base_uri": "https://localhost:8080/"
        },
        "outputId": "3a9dc6f7-778e-4d21-9d36-1ebcbe125ee1"
      },
      "source": [
        "x = 'hello'\n",
        "y = \"hello\"\n",
        "print(x)\n",
        "print(y)"
      ],
      "execution_count": 3,
      "outputs": [
        {
          "output_type": "stream",
          "text": [
            "hello\n",
            "hello\n"
          ],
          "name": "stdout"
        }
      ]
    },
    {
      "cell_type": "markdown",
      "metadata": {
        "id": "pkEeDByMJkML"
      },
      "source": [
        "**Concatenating Strings**\n",
        "\n"
      ]
    },
    {
      "cell_type": "code",
      "metadata": {
        "id": "b7JfWMerJkMO",
        "colab": {
          "base_uri": "https://localhost:8080/"
        },
        "outputId": "c9e69079-9979-46bf-b02c-6108222e50d8"
      },
      "source": [
        "salutation = \"Hello\"\n",
        "first_name = \"Max\"\n",
        "last_name = \"James\"\n",
        "\n",
        "# Concatenate the 3 string variables with a space in between and print it out.\n",
        "\n",
        "string = salutation + \" \" + first_name + \" \" + last_name\n",
        "print(string)"
      ],
      "execution_count": 6,
      "outputs": [
        {
          "output_type": "stream",
          "text": [
            "Hello Max James\n"
          ],
          "name": "stdout"
        }
      ]
    },
    {
      "cell_type": "markdown",
      "metadata": {
        "id": "tDeykMVuJkMb"
      },
      "source": [
        "To use the same type of quote within a string, that quote needs to be escaped with a \\ - backwards slash."
      ]
    },
    {
      "cell_type": "code",
      "metadata": {
        "id": "hSq42cgpJkMd",
        "colab": {
          "base_uri": "https://localhost:8080/"
        },
        "outputId": "f7455877-1d10-498e-c21a-53dec0893c34"
      },
      "source": [
        "# Create a string variable which stores the following value \"It's my mom's birthday tomorrow\" and print it out.\n",
        "# Note the single quote used as apostrophe !!!.\n",
        "value= \"It's my mom's birthday tomorrow\"\n",
        "print(value)\n"
      ],
      "execution_count": 5,
      "outputs": [
        {
          "output_type": "stream",
          "text": [
            "It's my mom's birthday tomorrow\n"
          ],
          "name": "stdout"
        }
      ]
    },
    {
      "cell_type": "markdown",
      "metadata": {
        "id": "G_Zk3BAhJkMg"
      },
      "source": [
        "Mixed quotes can be used instead in a Python string without escaping."
      ]
    },
    {
      "cell_type": "markdown",
      "metadata": {
        "id": "dZCoCjUOJkMl"
      },
      "source": [
        "**Common String Errors**"
      ]
    },
    {
      "cell_type": "code",
      "metadata": {
        "scrolled": true,
        "id": "7PoMgK2hJkMm",
        "colab": {
          "base_uri": "https://localhost:8080/"
        },
        "outputId": "0e5fcc58-923c-468d-d757-f447c3311dc2"
      },
      "source": [
        "#######################################################\n",
        "################### Challenge 2 #######################\n",
        "#######################################################\n",
        "\n",
        "# Come up with possible solutions for the error below\n",
        "# Trying to concatenate a string with a number\n",
        "error1 = \"family\" + str(3)\n",
        "print(error1)\n",
        "\n",
        "x = 3\n",
        "error2 = \"family\" + str(x)\n",
        "print(error2)\n"
      ],
      "execution_count": 9,
      "outputs": [
        {
          "output_type": "stream",
          "text": [
            "family3\n",
            "family3\n"
          ],
          "name": "stdout"
        }
      ]
    },
    {
      "cell_type": "code",
      "metadata": {
        "id": "73vcQRIdxsRd",
        "colab": {
          "base_uri": "https://localhost:8080/"
        },
        "outputId": "61246bb4-1300-43a8-c1f6-9833089a1639"
      },
      "source": [
        "#######################################################\n",
        "################### Challenge 3 #######################\n",
        "#######################################################\n",
        "\n",
        "# Come up with possible solutions for the error below\n",
        "# Trying to print a string with mismatching string quotes\n",
        "error2 = \"I love my\" +\" family\"\n",
        "print(error2)"
      ],
      "execution_count": 4,
      "outputs": [
        {
          "output_type": "stream",
          "text": [
            "I love my family\n"
          ],
          "name": "stdout"
        }
      ]
    },
    {
      "cell_type": "markdown",
      "metadata": {
        "id": "x9wNnIlwJkMu"
      },
      "source": [
        "**String Formatting**"
      ]
    },
    {
      "cell_type": "markdown",
      "metadata": {
        "id": "gEadrR9FJkMy"
      },
      "source": [
        "<details>\n",
        "<summary><b>Pro Tip</b> (Click to Expand)</summary>\n",
        "You can find out the data type by using Python's built in function, type(). __type()__ tells you what an object’s type is, for example a string (str) or integer (int).\n",
        "</details>"
      ]
    },
    {
      "cell_type": "markdown",
      "metadata": {
        "id": "MJbHBf3RJkM2"
      },
      "source": [
        "#### Casting"
      ]
    },
    {
      "cell_type": "code",
      "metadata": {
        "id": "GLxG-WzgJkM4",
        "colab": {
          "base_uri": "https://localhost:8080/"
        },
        "outputId": "4d84b0ab-6ef7-4e57-c0af-12e3b137f5e0"
      },
      "source": [
        "# Print the following integer variable as a string by making use of the casting technique.\n",
        "x = 9\n",
        "print(str(x))\n"
      ],
      "execution_count": 12,
      "outputs": [
        {
          "output_type": "stream",
          "text": [
            "9\n"
          ],
          "name": "stdout"
        }
      ]
    },
    {
      "cell_type": "code",
      "metadata": {
        "id": "Q6MciQgyO_8k",
        "colab": {
          "base_uri": "https://localhost:8080/"
        },
        "outputId": "bd3c9c78-b508-4f06-b82c-6909019373b6"
      },
      "source": [
        "# Print the following  variable as an integer by making use of the casting technique.\n",
        "x = '5'\n",
        "print(int(x))"
      ],
      "execution_count": 14,
      "outputs": [
        {
          "output_type": "stream",
          "text": [
            "5\n"
          ],
          "name": "stdout"
        }
      ]
    },
    {
      "cell_type": "markdown",
      "metadata": {
        "id": "pexGoy4pJkM8"
      },
      "source": [
        "**Note:**\n",
        "1. Python Variables can't start with a number.\n",
        "Python Variables must start with a letter or the underscore character.\n",
        "2. Variable names can't contain special characters such as '!', '@', '#', '$', '%'.\n",
        "3. Your Python variables shouldn't be named 'and', 'if', 'while', 'True', 'False' because Python uses these names for program control structure. \n",
        "4. Don't give your variables the same name as our data types. For example: Don't name your variable int, dict, list, str, etc.\n",
        "Variable names are case sensitive. For example: King, king and KING are different variable names. Please beware."
      ]
    },
    {
      "cell_type": "markdown",
      "metadata": {
        "id": "p9H_wWzHJkM_"
      },
      "source": [
        "**TODO:**"
      ]
    },
    {
      "cell_type": "markdown",
      "metadata": {
        "id": "D3c9gQ0sJkNB"
      },
      "source": [
        "<a id='python-operations'></a>\n",
        "### Python Operations"
      ]
    },
    {
      "cell_type": "markdown",
      "metadata": {
        "id": "X0QfDR2IJkNC"
      },
      "source": [
        "**Arithmetic Operators**\n",
        "1. Addition +\n",
        "2. Subtraction -\n",
        "3. Multiplication *\n",
        "4. Division /\n",
        "5. Floor division //\n",
        "6. Modulus (remainder) %\n",
        "7. Exponentiation **\n",
        "8. Matrix multiplication @"
      ]
    },
    {
      "cell_type": "code",
      "metadata": {
        "id": "YfMveUsYyKD-"
      },
      "source": [
        ""
      ],
      "execution_count": null,
      "outputs": []
    },
    {
      "cell_type": "code",
      "metadata": {
        "scrolled": true,
        "id": "R6MRAYugJkND",
        "colab": {
          "base_uri": "https://localhost:8080/"
        },
        "outputId": "21041ee1-a81a-479a-dc90-15e9e1238174"
      },
      "source": [
        "# Calculate & print the results of the following:\n",
        "# the remainder of 13 divided to 2\n",
        "# is number 21 divisible to 3\n",
        "# 2 to the power 3\n",
        "# floor division of 20 to 3 by making using of the corresponding operator\n",
        "\n",
        "x =13%2\n",
        "print(x)\n",
        "\n",
        "answer=21/3\n",
        "print(answer)\n",
        "\n",
        "y = 2**3\n",
        "print(y)\n",
        "\n",
        "fd = 20//3\n",
        "print(fd)\n"
      ],
      "execution_count": 2,
      "outputs": [
        {
          "output_type": "stream",
          "text": [
            "1\n",
            "7.0\n",
            "8\n",
            "6\n"
          ],
          "name": "stdout"
        }
      ]
    },
    {
      "cell_type": "code",
      "metadata": {
        "id": "84ZpYXkeJkNH",
        "colab": {
          "base_uri": "https://localhost:8080/",
          "height": 527
        },
        "outputId": "bc7c72dc-4150-43f1-c2fb-6fe35d38e3a8"
      },
      "source": [
        "#######################################################\n",
        "################### Challenge 4 #######################\n",
        "#######################################################\n",
        "\n",
        "# Rewrite the code so that it accepts user input height and weight and uses that to calculate the BMI.\n",
        "height = float(input(\"enter your height in cm: 1.74\"))\n",
        "weight = float(input(\"enter your weight in kg: 80\"))\n",
        "\n",
        "bmi = weight /height ** 2\n",
        "\n",
        "print(\"BMI is: \" + str(bmi))"
      ],
      "execution_count": 9,
      "outputs": [
        {
          "output_type": "error",
          "ename": "KeyboardInterrupt",
          "evalue": "ignored",
          "traceback": [
            "\u001b[0;31m---------------------------------------------------------------------------\u001b[0m",
            "\u001b[0;31mKeyboardInterrupt\u001b[0m                         Traceback (most recent call last)",
            "\u001b[0;32m/usr/local/lib/python3.7/dist-packages/ipykernel/kernelbase.py\u001b[0m in \u001b[0;36m_input_request\u001b[0;34m(self, prompt, ident, parent, password)\u001b[0m\n\u001b[1;32m    728\u001b[0m             \u001b[0;32mtry\u001b[0m\u001b[0;34m:\u001b[0m\u001b[0;34m\u001b[0m\u001b[0;34m\u001b[0m\u001b[0m\n\u001b[0;32m--> 729\u001b[0;31m                 \u001b[0mident\u001b[0m\u001b[0;34m,\u001b[0m \u001b[0mreply\u001b[0m \u001b[0;34m=\u001b[0m \u001b[0mself\u001b[0m\u001b[0;34m.\u001b[0m\u001b[0msession\u001b[0m\u001b[0;34m.\u001b[0m\u001b[0mrecv\u001b[0m\u001b[0;34m(\u001b[0m\u001b[0mself\u001b[0m\u001b[0;34m.\u001b[0m\u001b[0mstdin_socket\u001b[0m\u001b[0;34m,\u001b[0m \u001b[0;36m0\u001b[0m\u001b[0;34m)\u001b[0m\u001b[0;34m\u001b[0m\u001b[0;34m\u001b[0m\u001b[0m\n\u001b[0m\u001b[1;32m    730\u001b[0m             \u001b[0;32mexcept\u001b[0m \u001b[0mException\u001b[0m\u001b[0;34m:\u001b[0m\u001b[0;34m\u001b[0m\u001b[0;34m\u001b[0m\u001b[0m\n",
            "\u001b[0;32m/usr/local/lib/python3.7/dist-packages/jupyter_client/session.py\u001b[0m in \u001b[0;36mrecv\u001b[0;34m(self, socket, mode, content, copy)\u001b[0m\n\u001b[1;32m    802\u001b[0m         \u001b[0;32mtry\u001b[0m\u001b[0;34m:\u001b[0m\u001b[0;34m\u001b[0m\u001b[0;34m\u001b[0m\u001b[0m\n\u001b[0;32m--> 803\u001b[0;31m             \u001b[0mmsg_list\u001b[0m \u001b[0;34m=\u001b[0m \u001b[0msocket\u001b[0m\u001b[0;34m.\u001b[0m\u001b[0mrecv_multipart\u001b[0m\u001b[0;34m(\u001b[0m\u001b[0mmode\u001b[0m\u001b[0;34m,\u001b[0m \u001b[0mcopy\u001b[0m\u001b[0;34m=\u001b[0m\u001b[0mcopy\u001b[0m\u001b[0;34m)\u001b[0m\u001b[0;34m\u001b[0m\u001b[0;34m\u001b[0m\u001b[0m\n\u001b[0m\u001b[1;32m    804\u001b[0m         \u001b[0;32mexcept\u001b[0m \u001b[0mzmq\u001b[0m\u001b[0;34m.\u001b[0m\u001b[0mZMQError\u001b[0m \u001b[0;32mas\u001b[0m \u001b[0me\u001b[0m\u001b[0;34m:\u001b[0m\u001b[0;34m\u001b[0m\u001b[0;34m\u001b[0m\u001b[0m\n",
            "\u001b[0;32m/usr/local/lib/python3.7/dist-packages/zmq/sugar/socket.py\u001b[0m in \u001b[0;36mrecv_multipart\u001b[0;34m(self, flags, copy, track)\u001b[0m\n\u001b[1;32m    582\u001b[0m         \"\"\"\n\u001b[0;32m--> 583\u001b[0;31m         \u001b[0mparts\u001b[0m \u001b[0;34m=\u001b[0m \u001b[0;34m[\u001b[0m\u001b[0mself\u001b[0m\u001b[0;34m.\u001b[0m\u001b[0mrecv\u001b[0m\u001b[0;34m(\u001b[0m\u001b[0mflags\u001b[0m\u001b[0;34m,\u001b[0m \u001b[0mcopy\u001b[0m\u001b[0;34m=\u001b[0m\u001b[0mcopy\u001b[0m\u001b[0;34m,\u001b[0m \u001b[0mtrack\u001b[0m\u001b[0;34m=\u001b[0m\u001b[0mtrack\u001b[0m\u001b[0;34m)\u001b[0m\u001b[0;34m]\u001b[0m\u001b[0;34m\u001b[0m\u001b[0;34m\u001b[0m\u001b[0m\n\u001b[0m\u001b[1;32m    584\u001b[0m         \u001b[0;31m# have first part already, only loop while more to receive\u001b[0m\u001b[0;34m\u001b[0m\u001b[0;34m\u001b[0m\u001b[0;34m\u001b[0m\u001b[0m\n",
            "\u001b[0;32mzmq/backend/cython/socket.pyx\u001b[0m in \u001b[0;36mzmq.backend.cython.socket.Socket.recv\u001b[0;34m()\u001b[0m\n",
            "\u001b[0;32mzmq/backend/cython/socket.pyx\u001b[0m in \u001b[0;36mzmq.backend.cython.socket.Socket.recv\u001b[0;34m()\u001b[0m\n",
            "\u001b[0;32mzmq/backend/cython/socket.pyx\u001b[0m in \u001b[0;36mzmq.backend.cython.socket._recv_copy\u001b[0;34m()\u001b[0m\n",
            "\u001b[0;32m/usr/local/lib/python3.7/dist-packages/zmq/backend/cython/checkrc.pxd\u001b[0m in \u001b[0;36mzmq.backend.cython.checkrc._check_rc\u001b[0;34m()\u001b[0m\n",
            "\u001b[0;31mKeyboardInterrupt\u001b[0m: ",
            "\nDuring handling of the above exception, another exception occurred:\n",
            "\u001b[0;31mKeyboardInterrupt\u001b[0m                         Traceback (most recent call last)",
            "\u001b[0;32m<ipython-input-9-7fb52a3d3b5e>\u001b[0m in \u001b[0;36m<module>\u001b[0;34m()\u001b[0m\n\u001b[1;32m      4\u001b[0m \u001b[0;34m\u001b[0m\u001b[0m\n\u001b[1;32m      5\u001b[0m \u001b[0;31m# Rewrite the code so that it accepts user input height and weight and uses that to calculate the BMI.\u001b[0m\u001b[0;34m\u001b[0m\u001b[0;34m\u001b[0m\u001b[0;34m\u001b[0m\u001b[0m\n\u001b[0;32m----> 6\u001b[0;31m \u001b[0mheight\u001b[0m \u001b[0;34m=\u001b[0m \u001b[0mfloat\u001b[0m\u001b[0;34m(\u001b[0m\u001b[0minput\u001b[0m\u001b[0;34m(\u001b[0m\u001b[0;34m\"enter your height in cm: 1.74\"\u001b[0m\u001b[0;34m)\u001b[0m\u001b[0;34m)\u001b[0m\u001b[0;34m\u001b[0m\u001b[0;34m\u001b[0m\u001b[0m\n\u001b[0m\u001b[1;32m      7\u001b[0m \u001b[0mweight\u001b[0m \u001b[0;34m=\u001b[0m \u001b[0mfloat\u001b[0m\u001b[0;34m(\u001b[0m\u001b[0minput\u001b[0m\u001b[0;34m(\u001b[0m\u001b[0;34m\"enter your weight in kg: 80\"\u001b[0m\u001b[0;34m)\u001b[0m\u001b[0;34m)\u001b[0m\u001b[0;34m\u001b[0m\u001b[0;34m\u001b[0m\u001b[0m\n\u001b[1;32m      8\u001b[0m \u001b[0;34m\u001b[0m\u001b[0m\n",
            "\u001b[0;32m/usr/local/lib/python3.7/dist-packages/ipykernel/kernelbase.py\u001b[0m in \u001b[0;36mraw_input\u001b[0;34m(self, prompt)\u001b[0m\n\u001b[1;32m    702\u001b[0m             \u001b[0mself\u001b[0m\u001b[0;34m.\u001b[0m\u001b[0m_parent_ident\u001b[0m\u001b[0;34m,\u001b[0m\u001b[0;34m\u001b[0m\u001b[0;34m\u001b[0m\u001b[0m\n\u001b[1;32m    703\u001b[0m             \u001b[0mself\u001b[0m\u001b[0;34m.\u001b[0m\u001b[0m_parent_header\u001b[0m\u001b[0;34m,\u001b[0m\u001b[0;34m\u001b[0m\u001b[0;34m\u001b[0m\u001b[0m\n\u001b[0;32m--> 704\u001b[0;31m             \u001b[0mpassword\u001b[0m\u001b[0;34m=\u001b[0m\u001b[0;32mFalse\u001b[0m\u001b[0;34m,\u001b[0m\u001b[0;34m\u001b[0m\u001b[0;34m\u001b[0m\u001b[0m\n\u001b[0m\u001b[1;32m    705\u001b[0m         )\n\u001b[1;32m    706\u001b[0m \u001b[0;34m\u001b[0m\u001b[0m\n",
            "\u001b[0;32m/usr/local/lib/python3.7/dist-packages/ipykernel/kernelbase.py\u001b[0m in \u001b[0;36m_input_request\u001b[0;34m(self, prompt, ident, parent, password)\u001b[0m\n\u001b[1;32m    732\u001b[0m             \u001b[0;32mexcept\u001b[0m \u001b[0mKeyboardInterrupt\u001b[0m\u001b[0;34m:\u001b[0m\u001b[0;34m\u001b[0m\u001b[0;34m\u001b[0m\u001b[0m\n\u001b[1;32m    733\u001b[0m                 \u001b[0;31m# re-raise KeyboardInterrupt, to truncate traceback\u001b[0m\u001b[0;34m\u001b[0m\u001b[0;34m\u001b[0m\u001b[0;34m\u001b[0m\u001b[0m\n\u001b[0;32m--> 734\u001b[0;31m                 \u001b[0;32mraise\u001b[0m \u001b[0mKeyboardInterrupt\u001b[0m\u001b[0;34m\u001b[0m\u001b[0;34m\u001b[0m\u001b[0m\n\u001b[0m\u001b[1;32m    735\u001b[0m             \u001b[0;32melse\u001b[0m\u001b[0;34m:\u001b[0m\u001b[0;34m\u001b[0m\u001b[0;34m\u001b[0m\u001b[0m\n\u001b[1;32m    736\u001b[0m                 \u001b[0;32mbreak\u001b[0m\u001b[0;34m\u001b[0m\u001b[0;34m\u001b[0m\u001b[0m\n",
            "\u001b[0;31mKeyboardInterrupt\u001b[0m: "
          ]
        }
      ]
    },
    {
      "cell_type": "markdown",
      "metadata": {
        "id": "-B-eZ-hkJkNK"
      },
      "source": [
        "**In-Place Operations**"
      ]
    },
    {
      "cell_type": "markdown",
      "metadata": {
        "id": "jxzf5KyBJkNR"
      },
      "source": [
        "**Comparison Operators**\n",
        "1. Equal ==\n",
        "2. Not equal !=\n",
        "3. Greater than >\n",
        "4. Less than <\n",
        "5. Greater than or equal to >=\n",
        "6. Less than or equal to <="
      ]
    },
    {
      "cell_type": "code",
      "metadata": {
        "id": "BYN-o346JkNS",
        "colab": {
          "base_uri": "https://localhost:8080/"
        },
        "outputId": "ade3f913-b463-49fb-82c3-c45ce8a5650d"
      },
      "source": [
        "# a > b\n",
        "# a < b\n",
        "# a >= b\n",
        "# a <= b\n",
        "\n",
        "a = 10\n",
        "b = 4.5\n",
        "\n",
        "# Print if a is smaller than b\n",
        "print(a<b)\n"
      ],
      "execution_count": 17,
      "outputs": [
        {
          "output_type": "stream",
          "text": [
            "False\n"
          ],
          "name": "stdout"
        }
      ]
    },
    {
      "cell_type": "markdown",
      "metadata": {
        "id": "Ihmw-Ss0JkNW"
      },
      "source": [
        "**Logical Operators**\n",
        "1. and\n",
        "2. or\n",
        "3. not"
      ]
    },
    {
      "cell_type": "code",
      "metadata": {
        "id": "oc18t9C3JkNX",
        "colab": {
          "base_uri": "https://localhost:8080/"
        },
        "outputId": "c6f771a9-c228-43aa-beda-6a31d9dadfb3"
      },
      "source": [
        "a = 5\n",
        "b = 6\n",
        "\n",
        "# Print if a is 5 and b is 6\n",
        "print(a==5 and b==6)\n",
        "\n",
        "# Print if a has a value between 4 and 6,including 4 and 6\n",
        "print(4<=a<=6)"
      ],
      "execution_count": 20,
      "outputs": [
        {
          "output_type": "stream",
          "text": [
            "True\n",
            "True\n"
          ],
          "name": "stdout"
        }
      ]
    },
    {
      "cell_type": "markdown",
      "metadata": {
        "id": "P5YiOg1mJkNb"
      },
      "source": [
        "Python has other operators such as the **Bitwise**, **Membership** and **Identity** Operators."
      ]
    },
    {
      "cell_type": "markdown",
      "metadata": {
        "id": "QSQXKzvGJkNc"
      },
      "source": [
        "**TODO:**\n",
        "1. Calculate your daily expenses, by taking your monthly expenses and diving it by 30. Given that your monthly expenses is €800.\n",
        "2. What is the value of a in \"a = -1 ** 2\"?\n",
        "3. What is the value of b in \"b = 99 >= 3**4 and 70 == 7 * 10 or 12 != 3 * 4\"?\n",
        "4. Accept a number from a user, print whether it is divisible by ten and greater than hundred."
      ]
    },
    {
      "cell_type": "code",
      "metadata": {
        "id": "pPDyc8AOySEu"
      },
      "source": [
        "#######################################################\n",
        "################### Challenge 5 #######################\n",
        "#######################################################\n",
        "\n",
        "# 1.Calculate your daily expenses, by taking your monthly expenses and diving it by 30. Given that your monthly expenses is €800.\n",
        "# 2. What is the value of a in \"a = -1 ** 2\"? 1\n",
        "# 3. What is the value of b in \"b = 99 >= 3*4 and 70 == 7 * 10 or 12 != 3 * 4\"? I don'tunderstand this one.\n",
        "# 4. Accept a number from a user, print whether it is divisible by ten and greater than hundred.\n",
        "\n",
        "daily_expenses = 800 / 30\n",
        "\n"
      ],
      "execution_count": null,
      "outputs": []
    },
    {
      "cell_type": "markdown",
      "metadata": {
        "id": "ojDpNbmAJkNc"
      },
      "source": [
        "<a id='strings-and-their-methods'></a>\n",
        "### Strings & their Methods"
      ]
    },
    {
      "cell_type": "markdown",
      "metadata": {
        "id": "MDDmxw58JkNd"
      },
      "source": [
        "A method is a function that is specific to a certain \"object\" in Python. Python has a set of built-in methods that you can use on strings."
      ]
    },
    {
      "cell_type": "code",
      "metadata": {
        "id": "pdgCDgrAJkNe",
        "colab": {
          "base_uri": "https://localhost:8080/"
        },
        "outputId": "5ff88ee5-c392-45e3-927e-3c77b7d74ad7"
      },
      "source": [
        "var = \"growth mentor\"\n",
        "print(var.replace('r', 'l'))\n",
        "\n",
        "# Replace the letter 'r' with 'l' inside the string stored in var variable."
      ],
      "execution_count": 8,
      "outputs": [
        {
          "output_type": "stream",
          "text": [
            "glowth mentol\n"
          ],
          "name": "stdout"
        }
      ]
    },
    {
      "cell_type": "markdown",
      "metadata": {
        "id": "Lz3eO_pv04nO"
      },
      "source": [
        "Length of a words/ sentence or a paragraph can be calculated by simply calling a built-in function  -> which in fact gives the number of characters."
      ]
    },
    {
      "cell_type": "code",
      "metadata": {
        "id": "2lsT4KmG1JUI",
        "colab": {
          "base_uri": "https://localhost:8080/"
        },
        "outputId": "a5fec8e7-670f-410e-ae66-e209c0dcf17d"
      },
      "source": [
        "# What is the length of the following string\n",
        "variable = 'I am excited to code in Python. This is awesome!'\n",
        "print(len(variable))\n"
      ],
      "execution_count": 23,
      "outputs": [
        {
          "output_type": "stream",
          "text": [
            "48\n"
          ],
          "name": "stdout"
        }
      ]
    },
    {
      "cell_type": "code",
      "metadata": {
        "id": "PxNM8CHv1msi",
        "colab": {
          "base_uri": "https://localhost:8080/",
          "height": 35
        },
        "outputId": "f3e6150f-16e7-4e4a-d4ad-17012cdc8ab8"
      },
      "source": [
        "# Using a built-in method extract the substring starting at index 8 and running up to but not including index 10.\n",
        "\n",
        "var = 'growth mentor'\n",
        "var[8:9]\n"
      ],
      "execution_count": 24,
      "outputs": [
        {
          "output_type": "execute_result",
          "data": {
            "application/vnd.google.colaboratory.intrinsic+json": {
              "type": "string"
            },
            "text/plain": [
              "'e'"
            ]
          },
          "metadata": {
            "tags": []
          },
          "execution_count": 24
        }
      ]
    },
    {
      "cell_type": "markdown",
      "metadata": {
        "id": "AMGxeb-OJkNh"
      },
      "source": [
        "Read More: [String Methods](https://docs.python.org/3/library/stdtypes.html#string-methods)"
      ]
    },
    {
      "cell_type": "markdown",
      "metadata": {
        "id": "ADxAjKsNJkNi"
      },
      "source": [
        "**TODO:**\n",
        "1. Take a user input, convert the first character of each word to upper case, split the string every whitespace and join all the strings with a plus character (+)"
      ]
    },
    {
      "cell_type": "code",
      "metadata": {
        "id": "cLbLsLk9yjv0",
        "colab": {
          "base_uri": "https://localhost:8080/",
          "height": 35
        },
        "outputId": "f41c3835-fcbd-4226-816b-53ec4dbec2ce"
      },
      "source": [
        "#######################################################\n",
        "################### Challenge 6 #######################\n",
        "#######################################################\n",
        "\n",
        "# Take a user input, convert the first character of each word to upper case,\n",
        "# split the string every whitespace and join all the strings with a plus character (+)\n",
        "\n",
        "\n",
        "# The beginner's way is to start using indexing and create a variable for each word then join them together with '+'. Which is not wrong!\n",
        "# But not that efficient nor generic. This comes with practice and exercising lots of coding.\n",
        "\n",
        "# Hint:Solution 1\n",
        "# With hardcoded input\n",
        "input=\"hello world\"\n",
        "input.capitalize()\n",
        "\n",
        "\n",
        "# Hint:Solution 2\n",
        "# With read-out from the keyboard\n",
        "\n"
      ],
      "execution_count": 27,
      "outputs": [
        {
          "output_type": "execute_result",
          "data": {
            "application/vnd.google.colaboratory.intrinsic+json": {
              "type": "string"
            },
            "text/plain": [
              "'Hello world'"
            ]
          },
          "metadata": {
            "tags": []
          },
          "execution_count": 27
        }
      ]
    },
    {
      "cell_type": "markdown",
      "metadata": {
        "id": "hGwG7xokJkNj"
      },
      "source": [
        "<a id='collections'></a>\n",
        "### Lists, Tuples, Sets, & Dictionaries"
      ]
    },
    {
      "cell_type": "markdown",
      "metadata": {
        "id": "LMVG7a69JkNk"
      },
      "source": [
        "#### Lists"
      ]
    },
    {
      "cell_type": "markdown",
      "metadata": {
        "id": "ktoVJErGJkNk"
      },
      "source": [
        "Lists are one of the most powerful data types in Python. Lists are used for storing similar items, and in cases where items need to be added or removed.\n"
      ]
    },
    {
      "cell_type": "code",
      "metadata": {
        "id": "drRwJS9IJkNm"
      },
      "source": [
        "# Create an empty list\n",
        "# Hint: there are 2 ways of doing it\n",
        "empty_list=[]\n"
      ],
      "execution_count": 12,
      "outputs": []
    },
    {
      "cell_type": "code",
      "metadata": {
        "id": "NfNjX0vhJkNr",
        "colab": {
          "base_uri": "https://localhost:8080/"
        },
        "outputId": "be3c18fe-4150-416a-e32e-3fffdbbab2e5"
      },
      "source": [
        "# Searching a list\n",
        "my_hobby_list = [\"cooking\", \"travelling\", \"teaching\"]\n",
        "\n",
        "# Print out if \"cooking\" is present among the items in the my_hobby_list\n",
        "#print(my_hobby_list[\"cooking\"])\n",
        "\n",
        "# Add the item of \"dancing\" to the end of the my_hobby_list\n",
        "my_hobby_list.append(\"dancing\")\n",
        "print(my_hobby_list)\n",
        "\n",
        "# Insert item \"sleeping\" after \"travelling\" by making use of a built-in function\n",
        "my_hobby_list.insert(2,\"sleeping\")\n",
        "print(my_hobby_list)\n",
        "# Print out the second item in the my_hobby_list\n",
        "print(my_hobby_list[1])\n",
        "\n",
        "# Replace first item in the list with \"eating\"\n",
        "my_hobby_list[my_hobby_list.index('cooking')]= 'eating'\n",
        "print(my_hobby_list)\n",
        "\n",
        "# Order the list in alphabetical order from A to Z\n",
        "my_hobby_list.sort()\n",
        "print(my_hobby_list)\n",
        "\n",
        "# Remove an item from the last position\n",
        "my_hobby_list.remove('travelling')\n",
        "print(my_hobby_list)\n",
        "\n"
      ],
      "execution_count": 15,
      "outputs": [
        {
          "output_type": "stream",
          "text": [
            "['cooking', 'travelling', 'teaching', 'dancing']\n",
            "['cooking', 'travelling', 'sleeping', 'teaching', 'dancing']\n",
            "travelling\n",
            "['eating', 'travelling', 'sleeping', 'teaching', 'dancing']\n",
            "['dancing', 'eating', 'sleeping', 'teaching', 'travelling']\n",
            "['dancing', 'eating', 'sleeping', 'teaching']\n"
          ],
          "name": "stdout"
        }
      ]
    },
    {
      "cell_type": "markdown",
      "metadata": {
        "id": "akcx5kPQJkNu"
      },
      "source": [
        "**Common List Errors**"
      ]
    },
    {
      "cell_type": "code",
      "metadata": {
        "id": "jnGD0DRYJkN3",
        "colab": {
          "base_uri": "https://localhost:8080/"
        },
        "outputId": "cd083055-e287-4803-946d-5a6d9db1a882"
      },
      "source": [
        "# Fix the list syntax below so that it contains 3 items: Jane, Alex, Sandra\n",
        "first_names = [\"Jane\", \"Alex\", \"Sandra\"]\n",
        "print(first_names)"
      ],
      "execution_count": 16,
      "outputs": [
        {
          "output_type": "stream",
          "text": [
            "['Jane', 'Alex', 'Sandra']\n"
          ],
          "name": "stdout"
        }
      ]
    },
    {
      "cell_type": "markdown",
      "metadata": {
        "id": "NDjiGjpEJkN8"
      },
      "source": [
        "<details>\n",
        "<summary><b>Pro Tip</b> (Click to Expand)</summary>\n",
        "To find out the built in methods for strings, lists, tuples, sets and dictionaries by typing dir(). dir() returns a list of valid attributes for an object, so you can quickly see what variables an object has or what functions you can call on it. Ignore the methods that start with underscores. \n",
        "    \n",
        "help() brings up helpful documentation on any object. You can also type help() on its own to bring an interactive help console.\n",
        "</details>"
      ]
    },
    {
      "cell_type": "code",
      "metadata": {
        "id": "M87PqReQyw0T"
      },
      "source": [
        "#######################################################\n",
        "################### Challenge 7 #######################\n",
        "#######################################################\n",
        "\n",
        "# Print out the built in functions for lists.\n",
        "\n",
        "\n"
      ],
      "execution_count": 19,
      "outputs": []
    },
    {
      "cell_type": "markdown",
      "metadata": {
        "id": "vO9NvpALJkN9"
      },
      "source": [
        "#### Tuples"
      ]
    },
    {
      "cell_type": "markdown",
      "metadata": {
        "id": "2Xn7bdSPJkN-"
      },
      "source": [
        "**Tuple** is a list that is immutable. It is used for storing a snapshot of related items when we don’t plan on modifying, adding, or removing data. Tuples can be used in other types of containers like sets and dictionaries\n",
        "Remember that because Tuples are immutable,\n",
        "1. we can’t add or remove from tuples and\n",
        "2. we can't sort tuples"
      ]
    },
    {
      "cell_type": "code",
      "metadata": {
        "id": "qs6j8XQjJkN_",
        "colab": {
          "base_uri": "https://localhost:8080/"
        },
        "outputId": "ef919d51-2b46-4e93-d51c-c3c39ba0bc57"
      },
      "source": [
        "# Create an empty tuple\n",
        "empty_tuple = ()\n",
        "\n",
        "student_tuple = (\"Victoria\", 24, \"Computer Science major\", 4.5)\n",
        "# Display second item of the student_tuple\n",
        "print(student_tuple[1])\n",
        "\n",
        "\n",
        "# Unpack the student_tuple into the following variables: name, age, department, grade\n",
        "(name, age, department, grade) = student_tuple\n",
        "print(name)\n",
        "print(age)\n",
        "print(department)\n",
        "print(grade)\n"
      ],
      "execution_count": 10,
      "outputs": [
        {
          "output_type": "stream",
          "text": [
            "24\n",
            "Victoria\n",
            "24\n",
            "Computer Science major\n",
            "4.5\n"
          ],
          "name": "stdout"
        }
      ]
    },
    {
      "cell_type": "markdown",
      "metadata": {
        "id": "bKdasCvNJkOF"
      },
      "source": [
        "**TODO:**\n",
        "1. Print out the built in functions for tuples.\n",
        "2. "
      ]
    },
    {
      "cell_type": "code",
      "metadata": {
        "id": "CFeXeIFLy6TR"
      },
      "source": [
        "#######################################################\n",
        "################### Challenge 8 #######################\n",
        "#######################################################\n",
        "\n",
        "# Print out the built in functions for tuples.\n",
        "\n"
      ],
      "execution_count": null,
      "outputs": []
    },
    {
      "cell_type": "markdown",
      "metadata": {
        "id": "u_9n8hFZJkOG"
      },
      "source": [
        "#### Sets"
      ]
    },
    {
      "cell_type": "markdown",
      "metadata": {
        "id": "EvbCO4gNJkOI"
      },
      "source": [
        "Sets are a datatype that allows you to store other immutable types in an unordered way. Sets ensure that there are no duplicates and all items are unique."
      ]
    },
    {
      "cell_type": "code",
      "metadata": {
        "scrolled": true,
        "id": "_OdQhzWMJkOJ",
        "colab": {
          "base_uri": "https://localhost:8080/"
        },
        "outputId": "60945db7-3eec-49fb-f532-07bf617ae858"
      },
      "source": [
        "# Create an empty set\n",
        "emptyset = {}\n",
        "\n",
        "\n",
        "# How many \"water\" items does the farming_set have below?\n",
        "farming_set = {\"tractor\", \"plants\", \"water\", \"sunlight\", \"plants\", \"water\", \"cutlass\"}\n",
        "\n",
        "\n",
        "# Add \"harvester\" to the set\n",
        "farming_set.add(\"harvester\")\n",
        "\n",
        "\n",
        "# remove cutlass\" from the set\n",
        "farming_set.discard(\"cutlass\")\n",
        "print(farming_set)"
      ],
      "execution_count": 30,
      "outputs": [
        {
          "output_type": "stream",
          "text": [
            "{'plants', 'water', 'harvester', 'tractor', 'sunlight'}\n"
          ],
          "name": "stdout"
        }
      ]
    },
    {
      "cell_type": "markdown",
      "metadata": {
        "id": "2jzKzqOhJkOe"
      },
      "source": [
        "#### Dictionaries"
      ]
    },
    {
      "cell_type": "markdown",
      "metadata": {
        "id": "pC0qU3KaJkOf"
      },
      "source": [
        "Dictionary is used for storing data in key, value pairs. Keys used must be immutable data types."
      ]
    },
    {
      "cell_type": "code",
      "metadata": {
        "id": "z9PihbhHJkOg",
        "colab": {
          "base_uri": "https://localhost:8080/"
        },
        "outputId": "074d2095-182b-4c11-e102-bfa593f06dea"
      },
      "source": [
        "# Create a new empty dictionary\n",
        "new_dict= dict()\n",
        "\n",
        "#Search for key 3 in the dicitonary below and print the value\n",
        "my_fitness_dict = {1: \"football\", 2: \"cricket\", 3: \"table tennis\", 4: \"volleyball\"}\n",
        "\n",
        "\n",
        "# get the items in a dictionary\n",
        "my_fitness_dict.items()\n",
        "\n",
        "# get the keys in a dictionary\n",
        "my_fitness_dict.keys()\n",
        "\n",
        "# get the values in a dictionary\n",
        "my_fitness_dict.values()\n",
        "\n",
        "# get the length of a dictionary\n",
        "len(my_fitness_dict)\n"
      ],
      "execution_count": 12,
      "outputs": [
        {
          "output_type": "execute_result",
          "data": {
            "text/plain": [
              "4"
            ]
          },
          "metadata": {
            "tags": []
          },
          "execution_count": 12
        }
      ]
    },
    {
      "cell_type": "markdown",
      "metadata": {
        "id": "4QNTyg0yJkOk"
      },
      "source": [
        "**Common Dictionary Errors**"
      ]
    },
    {
      "cell_type": "code",
      "metadata": {
        "scrolled": true,
        "id": "5hXqmeMBJkOl",
        "colab": {
          "base_uri": "https://localhost:8080/",
          "height": 197
        },
        "outputId": "e99bb857-7684-4e87-9492-555590feab4f"
      },
      "source": [
        "#Fix the print statement below (trying to access an item by index)\n",
        "students = {\"Jane\": \"History\", \"Ada\": \"Biology\", \"William\":\"Political Science\"}\n",
        "print(students[3])\n",
        "\n"
      ],
      "execution_count": 19,
      "outputs": [
        {
          "output_type": "error",
          "ename": "TypeError",
          "evalue": "ignored",
          "traceback": [
            "\u001b[0;31m---------------------------------------------------------------------------\u001b[0m",
            "\u001b[0;31mTypeError\u001b[0m                                 Traceback (most recent call last)",
            "\u001b[0;32m<ipython-input-19-580a2d0e956e>\u001b[0m in \u001b[0;36m<module>\u001b[0;34m()\u001b[0m\n\u001b[1;32m      2\u001b[0m \u001b[0mstudents\u001b[0m \u001b[0;34m=\u001b[0m \u001b[0;34m{\u001b[0m\u001b[0;34m\"Jane\"\u001b[0m\u001b[0;34m:\u001b[0m \u001b[0;34m\"History\"\u001b[0m\u001b[0;34m,\u001b[0m \u001b[0;34m\"Ada\"\u001b[0m\u001b[0;34m:\u001b[0m \u001b[0;34m\"Biology\"\u001b[0m\u001b[0;34m,\u001b[0m \u001b[0;34m\"William\"\u001b[0m\u001b[0;34m:\u001b[0m\u001b[0;34m\"Political Science\"\u001b[0m\u001b[0;34m}\u001b[0m\u001b[0;34m\u001b[0m\u001b[0;34m\u001b[0m\u001b[0m\n\u001b[1;32m      3\u001b[0m \u001b[0;31m#print(students[3])\u001b[0m\u001b[0;34m\u001b[0m\u001b[0;34m\u001b[0m\u001b[0;34m\u001b[0m\u001b[0m\n\u001b[0;32m----> 4\u001b[0;31m \u001b[0mprint\u001b[0m\u001b[0;34m(\u001b[0m\u001b[0mvalue_at_index\u001b[0m\u001b[0;34m=\u001b[0m\u001b[0mlist\u001b[0m\u001b[0;34m(\u001b[0m\u001b[0mstudents\u001b[0m\u001b[0;34m.\u001b[0m\u001b[0mvalues\u001b[0m\u001b[0;34m(\u001b[0m\u001b[0;34m)\u001b[0m\u001b[0;34m)\u001b[0m\u001b[0;34m[\u001b[0m\u001b[0;36m2\u001b[0m\u001b[0;34m]\u001b[0m\u001b[0;34m)\u001b[0m\u001b[0;34m\u001b[0m\u001b[0;34m\u001b[0m\u001b[0m\n\u001b[0m",
            "\u001b[0;31mTypeError\u001b[0m: 'value_at_index' is an invalid keyword argument for print()"
          ]
        }
      ]
    },
    {
      "cell_type": "markdown",
      "metadata": {
        "id": "18vRkFaAJkOw"
      },
      "source": [
        "**TODO:**\n",
        "1. Print out the built in functions for dictionaries."
      ]
    },
    {
      "cell_type": "code",
      "metadata": {
        "id": "-Kf0VjrnzGQ1"
      },
      "source": [
        "#######################################################\n",
        "################### Challenge 8 #######################\n",
        "#######################################################\n",
        "\n",
        "# Print out the built in functions for dictionaries."
      ],
      "execution_count": null,
      "outputs": []
    },
    {
      "cell_type": "markdown",
      "metadata": {
        "id": "50k9tUv9JkOx"
      },
      "source": [
        "<a id='further-reading'></a>\n",
        "#### For Further Reading:"
      ]
    },
    {
      "cell_type": "markdown",
      "metadata": {
        "id": "b8My3tchJkOx"
      },
      "source": [
        "- [Python Official Documentation](https://docs.python.org/3/)\n",
        "- [Jupyter Tips & Tricks 1](https://medium.com/ibm-data-science-experience/markdown-for-jupyter-notebooks-cheatsheet-386c05aeebed)\n",
        "- [Jupyter Tips & Tricks 2](https://www.dataquest.io/blog/jupyter-notebook-tips-tricks-shortcuts/)\n",
        "- [Python Wiki](https://wiki.python.org/moin/FrontPage)"
      ]
    },
    {
      "cell_type": "markdown",
      "metadata": {
        "id": "mzCGo1vPxuAD"
      },
      "source": [
        "# More challenges"
      ]
    },
    {
      "cell_type": "code",
      "metadata": {
        "id": "esDP0K2qx1rK",
        "colab": {
          "base_uri": "https://localhost:8080/"
        },
        "outputId": "280334d1-fdf0-4584-b77d-99f7a8e1b762"
      },
      "source": [
        "#######################################################\n",
        "################### Challenge 9 #######################\n",
        "#######################################################\n",
        "\n",
        "# Given a string of even length, return the first half. For example, if the string is given as \"WooHoo\" this will yield \"Woo\".\n",
        "string = 'WooHoo'\n",
        "print(string[0:len(string)//2])\n"
      ],
      "execution_count": 20,
      "outputs": [
        {
          "output_type": "stream",
          "text": [
            "Woo\n"
          ],
          "name": "stdout"
        }
      ]
    },
    {
      "cell_type": "code",
      "metadata": {
        "id": "E0NaFvDfx4fG"
      },
      "source": [
        "#######################################################\n",
        "################### Challenge 10#######################\n",
        "#######################################################\n",
        "\n",
        "# Write a sorting algorithm for a numerical dataset. Create the dataset with the use of list datatype.\n",
        "\n",
        "random_nmbrs = [324,12344,5,6456,2,46,6]\n"
      ],
      "execution_count": 22,
      "outputs": []
    },
    {
      "cell_type": "code",
      "metadata": {
        "id": "ntym696AyAF9"
      },
      "source": [
        "########################################################\n",
        "################### Challenge 11 #######################\n",
        "########################################################\n",
        "\n",
        "#  Which one of these is floor division?\n",
        "# a) /\n",
        "# b) //\n",
        "# c) %\n",
        "# d) None of the mentioned\n",
        "\n",
        "# Solution: b"
      ],
      "execution_count": null,
      "outputs": []
    },
    {
      "cell_type": "code",
      "metadata": {
        "id": "MOmsQJU5yDA9"
      },
      "source": [
        "#  Suppose list1 is [2, 33, 222, 14, 25], What is list1[-1]? 33 How many elements does the list have? 5\n",
        "\n",
        "list1 = [2, 33, 222, 14, 25]\n"
      ],
      "execution_count": null,
      "outputs": []
    }
  ]
}